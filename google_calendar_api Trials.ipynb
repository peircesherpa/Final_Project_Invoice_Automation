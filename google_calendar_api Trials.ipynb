{
 "cells": [
  {
   "cell_type": "markdown",
   "metadata": {},
   "source": [
    "# Integrating Google Calendar API in Python Projects\n",
    "\n",
    "![](http://chittagongit.com/download/229209)\n",
    "\n",
    "- [Google Calendar](https://calendar.google.com)\n",
    "\n",
    "- [Google Calendar API](https://developers.google.com/calendar/)\n",
    "\n",
    "- [Google Developers Console](https://console.developers.google.com/)\n",
    "\n",
    "- [Google Calendar API Scopes](https://developers.google.com/calendar/auth)\n",
    "\n",
    "- [Google Calendar API Reference](https://developers.google.com/calendar/v3/reference/)"
   ]
  },
  {
   "cell_type": "markdown",
   "metadata": {},
   "source": [
    "## Installation\n",
    "\n",
    "```\n",
    "pip install google-api-python-client\n",
    "```"
   ]
  },
  {
   "cell_type": "markdown",
   "metadata": {},
   "source": [
    "## OAuth 2.0 Setup"
   ]
  },
  {
   "cell_type": "code",
   "execution_count": 118,
   "metadata": {},
   "outputs": [],
   "source": [
    "# pip install google-api-python-client"
   ]
  },
  {
   "cell_type": "code",
   "execution_count": 153,
   "metadata": {},
   "outputs": [],
   "source": [
    "from apiclient.discovery import build\n",
    "from google_auth_oauthlib.flow import InstalledAppFlow #there are multiple flows\n",
    "from pprint import pprint\n",
    "from datetime import datetime, timedelta\n",
    "import datetime"
   ]
  },
  {
   "cell_type": "code",
   "execution_count": 120,
   "metadata": {},
   "outputs": [],
   "source": [
    "scopes = ['https://www.googleapis.com/auth/calendar']"
   ]
  },
  {
   "cell_type": "code",
   "execution_count": 121,
   "metadata": {},
   "outputs": [],
   "source": [
    "flow = InstalledAppFlow.from_client_secrets_file(\"client_secret.json\", scopes=scopes)"
   ]
  },
  {
   "cell_type": "code",
   "execution_count": 122,
   "metadata": {
    "scrolled": false
   },
   "outputs": [],
   "source": [
    "# credentials = flow.run_console()"
   ]
  },
  {
   "cell_type": "code",
   "execution_count": 123,
   "metadata": {},
   "outputs": [
    {
     "data": {
      "text/plain": [
       "<google.oauth2.credentials.Credentials at 0x7fc5be240d90>"
      ]
     },
     "execution_count": 123,
     "metadata": {},
     "output_type": "execute_result"
    }
   ],
   "source": [
    "credentials"
   ]
  },
  {
   "cell_type": "code",
   "execution_count": 124,
   "metadata": {},
   "outputs": [],
   "source": [
    "import pickle #lets save the credentials into a specific file!\n",
    "#so we don't have to run the previous 5 cells each time"
   ]
  },
  {
   "cell_type": "code",
   "execution_count": 125,
   "metadata": {},
   "outputs": [],
   "source": [
    "pickle.dump(credentials, open(\"token.pkl\", \"wb\")) \n",
    "#dump is used for dumping any object into a file"
   ]
  },
  {
   "cell_type": "code",
   "execution_count": 126,
   "metadata": {},
   "outputs": [],
   "source": [
    "# credentials = pickle.load(open(\"token.pkl\",\"rb\"))\n",
    "#opens the credentials \n",
    "#which we saved into this"
   ]
  },
  {
   "cell_type": "code",
   "execution_count": 127,
   "metadata": {},
   "outputs": [
    {
     "data": {
      "text/plain": [
       "<google.oauth2.credentials.Credentials at 0x7fc5be240d90>"
      ]
     },
     "execution_count": 127,
     "metadata": {},
     "output_type": "execute_result"
    }
   ],
   "source": [
    "credentials"
   ]
  },
  {
   "cell_type": "code",
   "execution_count": 128,
   "metadata": {},
   "outputs": [],
   "source": [
    "service = build(\"calendar\",\"v3\", credentials=credentials)"
   ]
  },
  {
   "cell_type": "markdown",
   "metadata": {},
   "source": [
    "## Get My Calendars"
   ]
  },
  {
   "cell_type": "raw",
   "metadata": {},
   "source": [
    "calendar_list = service.calendarList().list(pageToken=page_token).execute() "
   ]
  },
  {
   "cell_type": "code",
   "execution_count": 129,
   "metadata": {},
   "outputs": [],
   "source": [
    "result = service.calendarList().list().execute()\n",
    "# result #I have four calendars, lets just use the first calendar"
   ]
  },
  {
   "cell_type": "code",
   "execution_count": 130,
   "metadata": {},
   "outputs": [
    {
     "data": {
      "text/plain": [
       "{'kind': 'calendar#calendarListEntry',\n",
       " 'etag': '\"1593136794934000\"',\n",
       " 'id': 'peircesherpa@gmail.com',\n",
       " 'summary': 'peircesherpa@gmail.com',\n",
       " 'timeZone': 'America/Los_Angeles',\n",
       " 'colorId': '14',\n",
       " 'backgroundColor': '#9fe1e7',\n",
       " 'foregroundColor': '#000000',\n",
       " 'selected': True,\n",
       " 'accessRole': 'owner',\n",
       " 'defaultReminders': [{'method': 'popup', 'minutes': 30}],\n",
       " 'notificationSettings': {'notifications': [{'type': 'eventCreation',\n",
       "    'method': 'email'},\n",
       "   {'type': 'eventChange', 'method': 'email'},\n",
       "   {'type': 'eventCancellation', 'method': 'email'},\n",
       "   {'type': 'eventResponse', 'method': 'email'}]},\n",
       " 'primary': True,\n",
       " 'conferenceProperties': {'allowedConferenceSolutionTypes': ['hangoutsMeet']}}"
      ]
     },
     "execution_count": 130,
     "metadata": {},
     "output_type": "execute_result"
    }
   ],
   "source": [
    "result['items'][0] #lets just use the first "
   ]
  },
  {
   "cell_type": "markdown",
   "metadata": {},
   "source": [
    "## Get My Calendar Events"
   ]
  },
  {
   "cell_type": "code",
   "execution_count": 131,
   "metadata": {},
   "outputs": [
    {
     "name": "stdout",
     "output_type": "stream",
     "text": [
      "peircesherpa@gmail.com\n"
     ]
    }
   ],
   "source": [
    "# calendar_id = 'peircesherpa@gmail.com'\n",
    "#or we could just refrence the first id through indexing\n",
    "calendar_id = result['items'][0]['id']\n",
    "print(calendar_id)"
   ]
  },
  {
   "cell_type": "code",
   "execution_count": 132,
   "metadata": {
    "scrolled": true
   },
   "outputs": [],
   "source": [
    "# result = service.events().list().execute() #missing parameter calendarId"
   ]
  },
  {
   "cell_type": "code",
   "execution_count": 133,
   "metadata": {},
   "outputs": [],
   "source": [
    "result = service.events().list(calendarId=calendar_id).execute() #with calendarId in it."
   ]
  },
  {
   "cell_type": "code",
   "execution_count": 152,
   "metadata": {},
   "outputs": [
    {
     "name": "stdout",
     "output_type": "stream",
     "text": [
      "summary: Reconnect with Peirce Sherpa\n",
      "description not available\n",
      "start: {'date': '2022-06-07'}\n",
      "end: {'date': '2022-06-08'}\n",
      "{'attendees': [{'email': 'peircesherpa@gmail.com',\n",
      "                'responseStatus': 'accepted',\n",
      "                'self': True},\n",
      "               {'email': 'elcaj.sp@gmail.com',\n",
      "                'organizer': True,\n",
      "                'responseStatus': 'accepted'}],\n",
      " 'created': '2022-04-08T00:11:56.000Z',\n",
      " 'creator': {'email': 'jelineke@go.oes.edu'},\n",
      " 'end': {'date': '2022-06-08'},\n",
      " 'etag': '\"3309282700104000\"',\n",
      " 'eventType': 'default',\n",
      " 'guestsCanModify': True,\n",
      " 'htmlLink': 'https://www.google.com/calendar/event?eid=dWgyY290dG41c2dnNDhsMG5jZWludXM4cG9fMjAyMjA2MDcgcGVpcmNlc2hlcnBhQG0',\n",
      " 'iCalUID': 'uh2cottn5sgg48l0nceinus8po@google.com',\n",
      " 'id': 'uh2cottn5sgg48l0nceinus8po',\n",
      " 'kind': 'calendar#event',\n",
      " 'organizer': {'email': 'elcaj.sp@gmail.com'},\n",
      " 'recurrence': ['RRULE:FREQ=YEARLY;INTERVAL=2'],\n",
      " 'reminders': {'useDefault': False},\n",
      " 'sequence': 0,\n",
      " 'start': {'date': '2022-06-07'},\n",
      " 'status': 'confirmed',\n",
      " 'summary': 'Reconnect with Peirce Sherpa',\n",
      " 'transparency': 'transparent',\n",
      " 'updated': '2022-06-07T22:35:50.052Z'}\n"
     ]
    }
   ],
   "source": [
    "result['items'][-1] #this is refrencing the most recent calendar item.\n",
    "#ayeee we are getting close\n",
    "#print the summary\n",
    "print('summary: ' + result['items'][-1]['summary'])\n",
    "#print the description\n",
    "try:\n",
    "    result['items'][-1]['description']\n",
    "except:\n",
    "    print(\"description not available\")\n",
    "#print the total time it took using datetime\n",
    "print('start: '+ str(result['items'][-1]['start']))\n",
    "print('end: ' + str(result['items'][-1]['end']))\n",
    "pprint(result['items'][-1])\n",
    "#now filter the things by date?\n",
    "\n",
    "\n",
    "# result['items'][0]"
   ]
  },
  {
   "cell_type": "markdown",
   "metadata": {},
   "source": [
    "## Create a New Calandar Event"
   ]
  },
  {
   "cell_type": "code",
   "execution_count": null,
   "metadata": {},
   "outputs": [],
   "source": [
    "from datetime import datetime, timedelta"
   ]
  },
  {
   "cell_type": "code",
   "execution_count": null,
   "metadata": {},
   "outputs": [],
   "source": [
    "start_time = datetime(2022, 5, 12, 19, 30, 0)\n",
    "end_time = start_time + timedelta(hours=4)\n",
    "timezone = 'America/Los_Angeles'"
   ]
  },
  {
   "cell_type": "code",
   "execution_count": null,
   "metadata": {},
   "outputs": [],
   "source": [
    "event = {\n",
    "  'summary': 'IPL Final 2019',\n",
    "  'location': 'Hyderabad',\n",
    "  'description': 'MI vs TBD',\n",
    "  'start': {\n",
    "    'dateTime': start_time.strftime(\"%Y-%m-%dT%H:%M:%S\"),\n",
    "    'timeZone': timezone,\n",
    "  },\n",
    "  'end': {\n",
    "    'dateTime': end_time.strftime(\"%Y-%m-%dT%H:%M:%S\"),\n",
    "    'timeZone': timezone,\n",
    "  },\n",
    "  'reminders': {\n",
    "    'useDefault': False,\n",
    "    'overrides': [\n",
    "      {'method': 'email', 'minutes': 24 * 60},\n",
    "      {'method': 'popup', 'minutes': 10},\n",
    "    ],\n",
    "  },\n",
    "}"
   ]
  },
  {
   "cell_type": "code",
   "execution_count": null,
   "metadata": {},
   "outputs": [],
   "source": [
    "service.events().insert(calendarId=calendar_id, body=event).execute()"
   ]
  },
  {
   "cell_type": "markdown",
   "metadata": {},
   "source": [
    "## Utility function\n",
    "\n",
    "```\n",
    "pip install datefinder\n",
    "```"
   ]
  },
  {
   "cell_type": "code",
   "execution_count": null,
   "metadata": {},
   "outputs": [],
   "source": [
    "pip install datefinder"
   ]
  },
  {
   "cell_type": "code",
   "execution_count": null,
   "metadata": {},
   "outputs": [],
   "source": [
    "import datefinder"
   ]
  },
  {
   "cell_type": "code",
   "execution_count": null,
   "metadata": {},
   "outputs": [],
   "source": [
    "matches = datefinder.find_dates(\"5 may 9 PM\")"
   ]
  },
  {
   "cell_type": "code",
   "execution_count": null,
   "metadata": {},
   "outputs": [],
   "source": [
    "list(matches)"
   ]
  },
  {
   "cell_type": "code",
   "execution_count": null,
   "metadata": {},
   "outputs": [],
   "source": [
    "def create_event(start_time_str, summary, duration=1, description=None, location=None):\n",
    "    '''this function creates events'''\n",
    "    matches = list(datefinder.find_dates(start_time_str))\n",
    "    if len(matches):\n",
    "        start_time = matches[0]\n",
    "        end_time = start_time + timedelta(hours=duration)\n",
    "    \n",
    "    event = {\n",
    "        'summary': summary,\n",
    "        'location': location,\n",
    "        'description': description,\n",
    "        'start': {\n",
    "            'dateTime': start_time.strftime(\"%Y-%m-%dT%H:%M:%S\"),\n",
    "            'timeZone': 'America/Los_Angeles',\n",
    "        },\n",
    "        'end': {\n",
    "            'dateTime': end_time.strftime(\"%Y-%m-%dT%H:%M:%S\"),\n",
    "            'timeZone': 'America/Los_Angeles',\n",
    "        },\n",
    "        'reminders': {\n",
    "            'useDefault': False,\n",
    "            'overrides': [\n",
    "                {'method': 'email', 'minutes': 24 * 60},\n",
    "                {'method': 'popup', 'minutes': 10},\n",
    "            ],\n",
    "        },\n",
    "    }\n",
    "    return service.events().insert(calendarId='primary', body=event).execute()"
   ]
  },
  {
   "cell_type": "code",
   "execution_count": null,
   "metadata": {},
   "outputs": [],
   "source": [
    "create_event(\"15 may 9 PM\", \"Meeting\")"
   ]
  },
  {
   "cell_type": "code",
   "execution_count": null,
   "metadata": {},
   "outputs": [],
   "source": []
  },
  {
   "cell_type": "code",
   "execution_count": null,
   "metadata": {},
   "outputs": [],
   "source": []
  },
  {
   "cell_type": "code",
   "execution_count": null,
   "metadata": {},
   "outputs": [],
   "source": []
  }
 ],
 "metadata": {
  "kernelspec": {
   "display_name": "Python 3",
   "language": "python",
   "name": "python3"
  },
  "language_info": {
   "codemirror_mode": {
    "name": "ipython",
    "version": 3
   },
   "file_extension": ".py",
   "mimetype": "text/x-python",
   "name": "python",
   "nbconvert_exporter": "python",
   "pygments_lexer": "ipython3",
   "version": "3.8.8"
  }
 },
 "nbformat": 4,
 "nbformat_minor": 2
}
