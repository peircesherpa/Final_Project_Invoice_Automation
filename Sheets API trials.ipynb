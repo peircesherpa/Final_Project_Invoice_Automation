{
 "cells": [
  {
   "cell_type": "markdown",
   "id": "c04d8be7",
   "metadata": {},
   "source": [
    "# Lets Use This Google Sheets API!\n",
    "### First we start by downloading the client\n",
    "Then we import the gsrpread, and ServiceAccountCredentials"
   ]
  },
  {
   "cell_type": "code",
   "execution_count": null,
   "id": "67341e54",
   "metadata": {},
   "outputs": [],
   "source": [
    "# pip install gspread oauth2client"
   ]
  },
  {
   "cell_type": "code",
   "execution_count": 52,
   "id": "ec752e0b",
   "metadata": {},
   "outputs": [
    {
     "name": "stdout",
     "output_type": "stream",
     "text": [
      "[{'Entry': 1, 'Fave Color': 'CHANGED', 'Name': 'Peirce'},\n",
      " {'Entry': 2, 'Fave Color': 'Red', 'Name': 'Joe'},\n",
      " {'Entry': 3, 'Fave Color': 'Red', 'Name': 'Jessica'},\n",
      " {'Entry': 4, 'Fave Color': 'Orange', 'Name': 'Rand'},\n",
      " {'Entry': 5, 'Fave Color': 'Silver', 'Name': 'Allah'},\n",
      " {'Entry': 6, 'Fave Color': 'Blue', 'Name': 'Oscar'}]\n",
      "\n",
      "['2', 'Joe', 'Red']\n",
      "['Fave Color', 'CHANGED', 'Red', 'Red', 'Orange', 'Silver', 'Blue']\n",
      "Name\n",
      "\n"
     ]
    }
   ],
   "source": [
    "import gspread\n",
    "from oauth2client.service_account import ServiceAccountCredentials\n",
    "from pprint import pprint #pprint = \"pretty print\"\n",
    "\n",
    "scopes = [\"https://www.googleapis.com/auth/spreadsheets\",\"https://www.googleapis.com/auth/drive\",\"https://www.googleapis.com/auth/calendar\"] #I might need to use: #https://www.googleapis.com/auth/drive\n",
    "creds = ServiceAccountCredentials.from_json_keyfile_name(\"PeirceService.json\", scopes)\n",
    "client = gspread.authorize(creds)\n",
    "sheet = client.open(\"Tutorial\").sheet1\n",
    "\n",
    "data = sheet.get_all_records()\n",
    "pprint(data)\n",
    "print()\n",
    "#hmm each entry is a dictioanry stored within a list...\n",
    "row = sheet.row_values(3)\n",
    "col = sheet.col_values(3)\n",
    "cell = sheet.cell(1,2).value\n",
    "print(row)\n",
    "print(col)\n",
    "print(cell)\n",
    "#Now we can access data from, rows, columns, and indiviudal cells\n",
    "print()\n",
    "\n"
   ]
  },
  {
   "cell_type": "markdown",
   "id": "690aa20c",
   "metadata": {},
   "source": [
    "# part 2\n",
    "# How can we add data to cells ?\n",
    "### This Is what this next section is gonna be about\n",
    "How to add data to a spreadsheet"
   ]
  },
  {
   "cell_type": "code",
   "execution_count": 65,
   "id": "61b334b4",
   "metadata": {},
   "outputs": [
    {
     "name": "stdout",
     "output_type": "stream",
     "text": [
      "[{'': '', 'Entry': 1, 'Fave Color': 'CHANGED', 'Name': 'Peirce'},\n",
      " {'': '', 'Entry': 2, 'Fave Color': 'Red', 'Name': 'Joe'},\n",
      " {'': 'blue', 'Entry': 'hello', 'Fave Color': 'red', 'Name': 5},\n",
      " {'': '', 'Entry': 3, 'Fave Color': 'Red', 'Name': 'Jessica'},\n",
      " {'': '', 'Entry': 4, 'Fave Color': 'Orange', 'Name': 'Rand'},\n",
      " {'': '', 'Entry': 5, 'Fave Color': 'Silver', 'Name': 'Allah'},\n",
      " {'': '', 'Entry': 6, 'Fave Color': 'Blue', 'Name': 'Oscar'}]\n"
     ]
    },
    {
     "data": {
      "text/plain": [
       "{'spreadsheetId': '1MOUhtgB4zlJLAFCCBURtuvNZHEmgLfLXuJ8KQYZqyN0',\n",
       " 'updates': {'spreadsheetId': '1MOUhtgB4zlJLAFCCBURtuvNZHEmgLfLXuJ8KQYZqyN0',\n",
       "  'updatedRange': 'Sheet1!A4:D4',\n",
       "  'updatedRows': 1,\n",
       "  'updatedColumns': 4,\n",
       "  'updatedCells': 4}}"
      ]
     },
     "execution_count": 65,
     "metadata": {},
     "output_type": "execute_result"
    }
   ],
   "source": [
    "#inserting rows\n",
    "data = sheet.get_all_records()\n",
    "pprint(data)\n",
    "insertRow = ['h', 19, 'red','blue'] p\n",
    "sheet.insert_row(insertRow,4,) #ahhh yes\n",
    "\n",
    "#sheet.insert_row(value_you_wanna_insert, row #)\n"
   ]
  },
  {
   "cell_type": "code",
   "execution_count": 63,
   "id": "fb6bc698",
   "metadata": {
    "scrolled": true
   },
   "outputs": [
    {
     "name": "stdout",
     "output_type": "stream",
     "text": [
      "Heres the new row you added to data:\n",
      "[{'Entry': 1, 'Fave Color': 'CHANGED', 'Name': 'Peirce'},\n",
      " {'Entry': 2, 'Fave Color': 'Red', 'Name': 'Joe'},\n",
      " {'Entry': 3, 'Fave Color': 'Red', 'Name': 'Jessica'},\n",
      " {'Entry': 4, 'Fave Color': 'Orange', 'Name': 'Rand'},\n",
      " {'Entry': 5, 'Fave Color': 'Silver', 'Name': 'Allah'},\n",
      " {'Entry': 6, 'Fave Color': 'Blue', 'Name': 'Oscar'}]\n"
     ]
    }
   ],
   "source": [
    "print(\"Heres the new row you added to data:\")\n",
    "data = sheet.get_all_records()\n",
    "pprint(data)"
   ]
  },
  {
   "cell_type": "markdown",
   "id": "4cfd24e7",
   "metadata": {},
   "source": [
    "# Now Lets Delete the Row you just created"
   ]
  },
  {
   "cell_type": "code",
   "execution_count": 62,
   "id": "22302b6d",
   "metadata": {},
   "outputs": [
    {
     "data": {
      "text/plain": [
       "{'spreadsheetId': '1MOUhtgB4zlJLAFCCBURtuvNZHEmgLfLXuJ8KQYZqyN0',\n",
       " 'replies': [{}]}"
      ]
     },
     "execution_count": 62,
     "metadata": {},
     "output_type": "execute_result"
    }
   ],
   "source": [
    "#delete the row\n",
    "data = sheet.get_all_records()\n",
    "sheet.delete_rows(4)\n",
    "#the cool thing about delete is that you only need the number of the row that you wanna delete"
   ]
  },
  {
   "cell_type": "code",
   "execution_count": 61,
   "id": "1e837328",
   "metadata": {
    "scrolled": true
   },
   "outputs": [
    {
     "name": "stdout",
     "output_type": "stream",
     "text": [
      "[{'': '', 'Entry': 1, 'Fave Color': 'CHANGED', 'Name': 'Peirce'},\n",
      " {'': '', 'Entry': 2, 'Fave Color': 'Red', 'Name': 'Joe'},\n",
      " {'': 'blue', 'Entry': 'hello', 'Fave Color': 'red', 'Name': 5},\n",
      " {'': '', 'Entry': 3, 'Fave Color': 'Red', 'Name': 'Jessica'},\n",
      " {'': '', 'Entry': 4, 'Fave Color': 'Orange', 'Name': 'Rand'},\n",
      " {'': '', 'Entry': 5, 'Fave Color': 'Silver', 'Name': 'Allah'},\n",
      " {'': '', 'Entry': 6, 'Fave Color': 'Blue', 'Name': 'Oscar'}]\n"
     ]
    }
   ],
   "source": [
    "#show that the row was deleted\n",
    "data = sheet.get_all_records()\n",
    "pprint(data)"
   ]
  },
  {
   "cell_type": "markdown",
   "id": "8261b8a7",
   "metadata": {},
   "source": [
    "# Now let's change some Data within the cells"
   ]
  },
  {
   "cell_type": "code",
   "execution_count": 60,
   "id": "b3a8924d",
   "metadata": {
    "scrolled": true
   },
   "outputs": [
    {
     "name": "stdout",
     "output_type": "stream",
     "text": [
      "[{'': '', 'Entry': 1, 'Fave Color': 'CHANGED', 'Name': 'Peirce'},\n",
      " {'': '', 'Entry': 2, 'Fave Color': 'Red', 'Name': 'Joe'},\n",
      " {'': 'blue', 'Entry': 'hello', 'Fave Color': 'red', 'Name': 5},\n",
      " {'': '', 'Entry': 3, 'Fave Color': 'Red', 'Name': 'Jessica'},\n",
      " {'': '', 'Entry': 4, 'Fave Color': 'Orange', 'Name': 'Rand'},\n",
      " {'': '', 'Entry': 5, 'Fave Color': 'Silver', 'Name': 'Allah'},\n",
      " {'': '', 'Entry': 6, 'Fave Color': 'Blue', 'Name': 'Oscar'}]\n"
     ]
    }
   ],
   "source": [
    "sheet.update_cell(2,3,\"CHANGED\")\n",
    "#to use this \n",
    "#(Row Coordinate, Column Coordinate, \"TEXT YOU WANT TO REPLACE IT WITH\")\n",
    "data = sheet.get_all_records()\n",
    "pprint(data)"
   ]
  },
  {
   "cell_type": "code",
   "execution_count": null,
   "id": "c06dd962",
   "metadata": {},
   "outputs": [],
   "source": []
  },
  {
   "cell_type": "markdown",
   "id": "380ed1b1",
   "metadata": {},
   "source": [
    "# Lets insert some information from the Google calendar into a spreadsheet!"
   ]
  },
  {
   "cell_type": "code",
   "execution_count": null,
   "id": "1a45f9ab",
   "metadata": {},
   "outputs": [],
   "source": []
  }
 ],
 "metadata": {
  "kernelspec": {
   "display_name": "Python 3",
   "language": "python",
   "name": "python3"
  },
  "language_info": {
   "codemirror_mode": {
    "name": "ipython",
    "version": 3
   },
   "file_extension": ".py",
   "mimetype": "text/x-python",
   "name": "python",
   "nbconvert_exporter": "python",
   "pygments_lexer": "ipython3",
   "version": "3.8.8"
  }
 },
 "nbformat": 4,
 "nbformat_minor": 5
}
