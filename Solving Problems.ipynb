{
 "cells": [
  {
   "cell_type": "code",
   "execution_count": 35,
   "id": "31483d49",
   "metadata": {},
   "outputs": [
    {
     "name": "stdout",
     "output_type": "stream",
     "text": [
      "06-06-2022\n",
      "06-07-2022\n",
      "06-08-2022\n",
      "06-09-2022\n",
      "06-10-2022\n"
     ]
    }
   ],
   "source": [
    "import datetime\n",
    "'06-06-2022'\n",
    "'06-10-2022'\n",
    "startDate = input('enter a start date in the format mm-dd-yyyy')\n",
    "# print(startDate)\n",
    "endDate = input('enter a start date in the format mm-dd-yyyy')\n",
    "# print(endDate)\n",
    "# print()\n",
    "\n",
    "start = datetime.datetime.strptime(startDate, \"%m-%d-%Y\")\n",
    "end = datetime.datetime.strptime(endDate, \"%m-%d-%Y\")\n",
    "\n",
    "date_generated = [start + datetime.timedelta(days=x) for x in range(0, ((int((end-start).days))+1))]\n",
    "\n",
    "for date in date_generated:\n",
    "    print(date.strftime(\"%m-%d-%Y\"))\n"
   ]
  },
  {
   "cell_type": "code",
   "execution_count": 34,
   "id": "4a06959e",
   "metadata": {},
   "outputs": [
    {
     "name": "stdout",
     "output_type": "stream",
     "text": [
      "17\n",
      "21-06-2014\n",
      "22-06-2014\n",
      "23-06-2014\n",
      "24-06-2014\n",
      "25-06-2014\n",
      "26-06-2014\n",
      "27-06-2014\n",
      "28-06-2014\n",
      "29-06-2014\n",
      "30-06-2014\n",
      "01-07-2014\n",
      "02-07-2014\n",
      "03-07-2014\n",
      "04-07-2014\n",
      "05-07-2014\n",
      "06-07-2014\n",
      "07-07-2014\n"
     ]
    }
   ],
   "source": [
    "import datetime\n",
    "\n",
    "start = datetime.datetime.strptime(\"21-06-2014\", \"%d-%m-%Y\")\n",
    "end = datetime.datetime.strptime(\"07-07-2014\", \"%d-%m-%Y\")\n",
    "date_generated = [start + datetime.timedelta(days=x) for x in range(0, ((int((end-start).days))+1))]\n",
    "\n",
    "print((int((end-start).days))+1) #inclusive\n",
    "\n",
    "\n",
    "for date in date_generated:\n",
    "    print(date.strftime(\"%d-%m-%Y\"))"
   ]
  },
  {
   "cell_type": "code",
   "execution_count": 42,
   "id": "8f0c453f",
   "metadata": {},
   "outputs": [
    {
     "name": "stdout",
     "output_type": "stream",
     "text": [
      "enter a start date in the format mm-dd-yyyy06-06-2022\n",
      "enter a start date in the format mm-dd-yyyy06-10-2022\n"
     ]
    },
    {
     "data": {
      "text/plain": [
       "['2022-06-06', '2022-06-07', '2022-06-08', '2022-06-09', '2022-06-10']"
      ]
     },
     "execution_count": 42,
     "metadata": {},
     "output_type": "execute_result"
    }
   ],
   "source": [
    "#dateTime format in google calendar\n",
    "# 'start': {'dateTime': '2020-10-18T09:00:00-07:00',\n",
    "#            'timeZone': 'America/Los_Angeles'},\n",
    "# 'end': {'dateTime': '2020-10-18T09:30:00-07:00',\n",
    "#          'timeZone': 'America/Los_Angeles'},\n",
    "    \n",
    "    \n",
    "#write a function to find all events from a certain time\n",
    "def timefinder():\n",
    "    startDate = input('enter a start date in the format mm-dd-yyyy')\n",
    "    endDate = input('enter a start date in the format mm-dd-yyyy')\n",
    "    start = datetime.datetime.strptime(startDate, \"%m-%d-%Y\")\n",
    "    end = datetime.datetime.strptime(endDate, \"%m-%d-%Y\")\n",
    "    date_generated = [start + datetime.timedelta(days=x) for x in range(0, ((int((end-start).days))+1))]\n",
    "    dateslist = []\n",
    "    for date in date_generated:\n",
    "        dateslist.append(date.strftime(\"%Y-%m-%d\"))\n",
    "    return dateslist\n",
    "\n",
    "timefinder()\n",
    "\n",
    "        \n",
    "        \n"
   ]
  },
  {
   "cell_type": "code",
   "execution_count": 44,
   "id": "6e038648",
   "metadata": {},
   "outputs": [
    {
     "name": "stdout",
     "output_type": "stream",
     "text": [
      "enter a start date in the format mm-dd-yyyy06-06-2022\n",
      "enter a start date in the format mm-dd-yyyy06-10-2022\n",
      "['2022-06-06', '2022-06-07', '2022-06-08', '2022-06-09', '2022-06-10']\n"
     ]
    }
   ],
   "source": [
    "startDate = input('enter a start date in the format mm-dd-yyyy')\n",
    "endDate = input('enter a start date in the format mm-dd-yyyy')\n",
    "start = datetime.datetime.strptime(startDate, \"%m-%d-%Y\")\n",
    "end = datetime.datetime.strptime(endDate, \"%m-%d-%Y\")\n",
    "date_generated = [start + datetime.timedelta(days=x) for x in range(0, ((int((end-start).days))+1))]\n",
    "dateslist = []\n",
    "for date in date_generated:\n",
    "    dateslist.append(date.strftime(\"%Y-%m-%d\"))\n",
    "print(dateslist)p"
   ]
  },
  {
   "cell_type": "code",
   "execution_count": null,
   "id": "d9cb9dd3",
   "metadata": {},
   "outputs": [],
   "source": []
  }
 ],
 "metadata": {
  "kernelspec": {
   "display_name": "Python 3",
   "language": "python",
   "name": "python3"
  },
  "language_info": {
   "codemirror_mode": {
    "name": "ipython",
    "version": 3
   },
   "file_extension": ".py",
   "mimetype": "text/x-python",
   "name": "python",
   "nbconvert_exporter": "python",
   "pygments_lexer": "ipython3",
   "version": "3.8.8"
  }
 },
 "nbformat": 4,
 "nbformat_minor": 5
}
